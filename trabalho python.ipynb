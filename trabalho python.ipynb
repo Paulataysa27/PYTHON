{
 "cells": [
  {
   "cell_type": "code",
   "execution_count": null,
   "metadata": {},
   "outputs": [],
   "source": [
    "#Faça um Programa que peça um número inteiro e determine se ele é par ou ímpar.\n",
    "numero = int(input('Digite um inteiro: '))\n",
    "if numero%2 == 0:\n",
    "    print(\"Par\")\n",
    "else:\n",
    "    print(\"Ímpar\")"
   ]
  },
  {
   "cell_type": "code",
   "execution_count": null,
   "metadata": {},
   "outputs": [],
   "source": [
    "#Faça um Programa que peça um número e informe se o número é inteiro ou decimal.\n",
    "numero = float(input(\"Digite um número: \"))\n",
    "if numero % 1 == 0:\n",
    "    print(\"Inteiro\")\n",
    "else:\n",
    "    print(\"Decimal\")"
   ]
  },
  {
   "cell_type": "code",
   "execution_count": null,
   "metadata": {},
   "outputs": [],
   "source": [
    "#Faça um Programa que peça a idade e a altura de 5 pessoas, armazene cada informação no seu respectivo índice. Imprima a idade e a altura na ordem inversa a ordem lida.\n",
    "idades = []\n",
    "alturas = []\n",
    "for i in range(1, 6):\n",
    "    print('%dº Pessoa' %i)\n",
    "    idade = int(input('Digite a idade: '))\n",
    "    altura = float(input('Digite a altura: '))\n",
    "    idades.append(idade)\n",
    "    alturas.append(altura)\n",
    "\n",
    "print('Ordem inversa')\n",
    "print('Alturas')\n",
    "print(alturas[::-1])\n",
    "print('Idades')\n",
    "print(idades[::-1])\n",
    "\n",
    "print('Ordem lida')\n",
    "print('Alturas')\n",
    "print(alturas)\n",
    "\n",
    "print('Idades')\n",
    "print(idades)"
   ]
  },
  {
   "cell_type": "code",
   "execution_count": null,
   "metadata": {},
   "outputs": [],
   "source": [
    "#Faça um programa que peça o tamanho de um arquivo para download (em MB) e a velocidade de um link de Internet (em Mbps), calcule e informe o tempo aproximado de download do arquivo usando este link (em minutos).\n",
    "tamanho = float(input('Tamanho do arquivo (MB): '))\n",
    "velocidade = float(input('Velocidade de Internet (MBps): '))\n",
    "print('Tempo aproximado de download: %.0f Minutos ' %((tamanho / velocidade) * 60))"
   ]
  },
  {
   "cell_type": "code",
   "execution_count": null,
   "metadata": {},
   "outputs": [],
   "source": [
    "#Faça um programa para uma loja de tintas. O programa deverá pedir o tamanho em metros quadrados da área a ser pintada. Considere que a cobertura da tinta é de 1 litro para cada 3 metros quadrados e que a tinta é vendida em latas de 18 litros, que custam R$ 80,00. Informe ao usuário a quantidades de latas de tinta a serem compradas e o preço total.\n",
    "tamanho = float(input('Quantos metros quadrados devem ser pintados: '))\n",
    "\n",
    "litros = tamanho / 3.0\n",
    "latas = int(litros / 18.0)\n",
    "if litros % 18 != 0:\n",
    "    latas += 1\n",
    "\n",
    "print('Voce deverá comprar', latas, 'latas.')\n",
    "print('O valor total é:', latas * 80)"
   ]
  },
  {
   "cell_type": "code",
   "execution_count": null,
   "metadata": {},
   "outputs": [],
   "source": [
    "#Faça um Programa para uma loja de tintas. O programa deverá pedir o tamanho em metros quadrados da área a ser pintada. Considere que a cobertura da tinta é de 1 litro para cada 6 metros quadrados e que a tinta é vendida em latas de 18 litros, que custam R$ 80,00 ou em galões de 3,6 litros, que custam R$ 25,00. \n",
    "#Informe ao usuário as quantidades de tinta a serem compradas e os respectivos preços \n",
    "#em 3 situações:\n",
    "#comprar apenas latas de 18 litros;\n",
    "#comprar apenas galões de 3,6 litros;\n",
    "#misturar latas e galões, de forma que o desperdício de tinta seja menor. Acrescente 10% de folga e sempre arredonde os valores para cima, isto é, considere latas cheias\n",
    "\n",
    "tamanho = float(input('Entre com o tamanho da área: '))\n",
    "\n",
    "litros = tamanho / 6\n",
    "latas = litros / 18\n",
    "\n",
    "if latas % 18 != 0:\n",
    "    latas += 1\n",
    "preco = latas * 80\n",
    "\n",
    "galoes = litros / 3.6\n",
    "if galoes % 3.6 != 0:\n",
    "    galoes += 1\n",
    "preco2 = galoes * 25\n",
    "\n",
    "# mistura de latas e galoes\n",
    "mistura_lata = int(litros / 18.0)\n",
    "mistura_galao = int((litros - (mistura_lata * 18)) / 3.6)\n",
    "\n",
    "if litros - (mistura_lata * 18) % 3.6 != 0:\n",
    "    mistura_galao += 1\n",
    "\n",
    "print('Apenas latas de 18 litros: %d' % latas, 'preço: %d' % preco)\n",
    "print('Apenas galões de 3.6 litros: %d' % galoes, 'preço: %d' % preco2)\n",
    "print('Mistura: %d latas e %d galoes = %.2f' % (\n",
    "    mistura_lata, mistura_galao, ((mistura_lata * 80) + (mistura_galao * 25))))"
   ]
  }
 ],
 "metadata": {
  "kernelspec": {
   "display_name": "Python 3.10.7 64-bit",
   "language": "python",
   "name": "python3"
  },
  "language_info": {
   "name": "python",
   "version": "3.10.7"
  },
  "orig_nbformat": 4,
  "vscode": {
   "interpreter": {
    "hash": "e08e3c6b0fe4d0db8009d34195d0442f421050c1c3d1b1bd717f790ded3c9e95"
   }
  }
 },
 "nbformat": 4,
 "nbformat_minor": 2
}
