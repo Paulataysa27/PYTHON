{
 "cells": [
  {
   "cell_type": "code",
   "execution_count": 1,
   "metadata": {},
   "outputs": [
    {
     "name": "stdout",
     "output_type": "stream",
     "text": [
      "O valor da área desse trapézio vale 14.00 unidades de área\n"
     ]
    }
   ],
   "source": [
    "#1) Faça função que calcule a área do trapézio, dados:\n",
    "\n",
    "bmaior=float(input('Digite o valor da base maior: '))\n",
    "\n",
    "bmenor=float(input('Digite o valor da base menor: '))\n",
    "\n",
    "h = float(input('Digite o valor da altura: '))\n",
    "\n",
    "area=((bmaior+bmenor)*h)/2\n",
    "\n",
    "print(f'O valor da área desse trapézio vale {area:.2f} unidades de área')"
   ]
  },
  {
   "cell_type": "code",
   "execution_count": 3,
   "metadata": {},
   "outputs": [
    {
     "data": {
      "text/plain": [
       "52.5"
      ]
     },
     "execution_count": 3,
     "metadata": {},
     "output_type": "execute_result"
    }
   ],
   "source": [
    "#2)Faça um programa com uma função chamada somaImposto. A função possui dois parâmetros formais:\n",
    "#taxaImposto, que é a quantia de imposto sobre vendas expressa em porcentagem e custo, que é o\n",
    "#custo de um item antes do imposto. A função “altera” o valor de custo para incluir o imposto\n",
    "#sobre vendas.\n",
    "\n",
    "def somaImposto(taxaImposto, custo):\n",
    "    #cálculo do imposto.\n",
    "    resultado_imposto = custo + (custo * taxaImposto / 100)\n",
    "    #retorno do resultado do imposto\n",
    "    return resultado_imposto\n",
    "    \n",
    "\n",
    "somaImposto(5, 50.00)\n"
   ]
  },
  {
   "cell_type": "code",
   "execution_count": 8,
   "metadata": {},
   "outputs": [
    {
     "name": "stdout",
     "output_type": "stream",
     "text": [
      "3:45PM\n"
     ]
    }
   ],
   "source": [
    "#Faça um programa que converta da notação de 24 horas para a notação de 12 horas. Por\n",
    "#exemplo, o programa deve converter 14:25 em 2:25. A entrada é dada em dois inteiros.\n",
    "#Fazer uma função para a conversão do valor. Inclua um loop que permita que o usuário\n",
    "#repita esse cálculo para novos valores de entrada todas as vezes que desejar.\n",
    "\n",
    "\n",
    "def hora_ampm(horas,minutos):\n",
    "  nova_hora = hora if hora <=12 else hora-12\n",
    "  A_ou_P = \"AM\" if hora <12 else \"PM\"\n",
    "  return str( nova_hora)+\":\"+str(minutos)+A_ou_P\n",
    "  \n",
    "while True:\n",
    "   hora = int(input(\"Informe a hora ou digite 0 para sair\"))\n",
    "   if hora ==0:\n",
    "    break\n",
    "   minutos = int(input(\"Informe os minutos\"))\n",
    "   print(hora_ampm(hora,minutos))"
   ]
  }
 ],
 "metadata": {
  "kernelspec": {
   "display_name": "Python 3.10.7 64-bit",
   "language": "python",
   "name": "python3"
  },
  "language_info": {
   "codemirror_mode": {
    "name": "ipython",
    "version": 3
   },
   "file_extension": ".py",
   "mimetype": "text/x-python",
   "name": "python",
   "nbconvert_exporter": "python",
   "pygments_lexer": "ipython3",
   "version": "3.10.7"
  },
  "orig_nbformat": 4,
  "vscode": {
   "interpreter": {
    "hash": "e08e3c6b0fe4d0db8009d34195d0442f421050c1c3d1b1bd717f790ded3c9e95"
   }
  }
 },
 "nbformat": 4,
 "nbformat_minor": 2
}
